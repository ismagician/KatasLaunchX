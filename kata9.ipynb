{
 "cells": [
  {
   "cell_type": "markdown",
   "metadata": {},
   "source": [
    "# Problema 1"
   ]
  },
  {
   "cell_type": "code",
   "execution_count": 1,
   "metadata": {},
   "outputs": [],
   "source": [
    "def crearInforme(tanque1,tanque2,tanque3):\n",
    "    print(f'Valor del tanque1 {tanque1} \\nValor del tanque2 {tanque2} \\nValor del tanque3 {tanque3} \\n' )"
   ]
  },
  {
   "cell_type": "code",
   "execution_count": 2,
   "metadata": {},
   "outputs": [
    {
     "name": "stdout",
     "output_type": "stream",
     "text": [
      "Valor del tanque1 0 \n",
      "Valor del tanque2 0 \n",
      "Valor del tanque3 0 \n",
      "\n",
      "None\n"
     ]
    }
   ],
   "source": [
    "print(crearInforme(0,0,0))"
   ]
  },
  {
   "cell_type": "code",
   "execution_count": 3,
   "metadata": {},
   "outputs": [],
   "source": [
    "# Función promedio \n",
    "def calcularPromedio(tanque1,tanque2,tanque3):\n",
    "    return (tanque1+tanque2+tanque3)/3\n",
    "    "
   ]
  },
  {
   "cell_type": "code",
   "execution_count": 5,
   "metadata": {},
   "outputs": [
    {
     "name": "stdout",
     "output_type": "stream",
     "text": [
      "\n",
      "    Informe\n",
      "    +++++++++++++++++++++++++++++++++++++++++++++++\n",
      "    Valor del tanque1: 10 %\n",
      "    Valor del tanque2: 1 %\n",
      "    Valor del tanque3: 1 %\n",
      "    El promedio es: 4.0 % \n"
     ]
    }
   ],
   "source": [
    "def crearInforme(tanque1,tanque2,tanque3):\n",
    "    print(f\"\"\"\n",
    "    Informe\n",
    "    +++++++++++++++++++++++++++++++++++++++++++++++\n",
    "    Valor del tanque1: {tanque1} %\n",
    "    Valor del tanque2: {tanque2} %\n",
    "    Valor del tanque3: {tanque3} %\n",
    "    El promedio es: {calcularPromedio(tanque1,tanque2,tanque3)} % \"\"\" )\n",
    "\n",
    "\n",
    "crearInforme(10,1,1)"
   ]
  },
  {
   "cell_type": "markdown",
   "metadata": {},
   "source": [
    "# Problema 2"
   ]
  },
  {
   "cell_type": "code",
   "execution_count": 6,
   "metadata": {},
   "outputs": [
    {
     "name": "stdout",
     "output_type": "stream",
     "text": [
      "\n",
      "    Informe Preciso\n",
      "    ---------------------------------------------\n",
      "    Hora de Prelanzamiento: 14\n",
      "    Tiempo de vuelo: 51\n",
      "    Tanque externo: 200000\n",
      "    Tanque interno: 300000\n",
      "None\n"
     ]
    }
   ],
   "source": [
    "def crear_informe_preciso(hora_prelanzamiento,tiempo_vuelo,destino,tanque_externo,tanque_interno):\n",
    "    print(f\"\"\"\n",
    "    Informe Preciso\n",
    "    ---------------------------------------------\n",
    "    Hora de Prelanzamiento: {hora_prelanzamiento}\n",
    "    Tiempo de vuelo: {tiempo_vuelo}\n",
    "    Tanque externo: {tanque_externo}\n",
    "    Tanque interno: {tanque_interno}\"\"\")\n",
    "\n",
    "print(crear_informe_preciso(14, 51, \"Moon\", 200000, 300000))\n"
   ]
  },
  {
   "cell_type": "code",
   "execution_count": 7,
   "metadata": {},
   "outputs": [
    {
     "name": "stdout",
     "output_type": "stream",
     "text": [
      "\n",
      "    Informe Preciso\n",
      "    ---------------------------------------------\n",
      "    Destino: Moon\n",
      "    Tiempo total: 76\n",
      "    Total de combustible: 500000\n",
      "None\n"
     ]
    }
   ],
   "source": [
    "def crear_informe_preciso(destino,*minutes,**fuel_reservoirs):\n",
    "    print(f\"\"\"\n",
    "    Informe Preciso\n",
    "    ---------------------------------------------\n",
    "    Destino: {destino}\n",
    "    Tiempo total: {sum(minutes)}\n",
    "    Total de combustible: {sum(fuel_reservoirs.values())}\"\"\")\n",
    "\n",
    "print(crear_informe_preciso(\"Moon\", 10, 15, 51, main=300000, external=200000))"
   ]
  },
  {
   "cell_type": "code",
   "execution_count": 8,
   "metadata": {},
   "outputs": [
    {
     "name": "stdout",
     "output_type": "stream",
     "text": [
      "\n",
      "    El tanque main tiene 300000 galones de combustible\n",
      "    El tanque external tiene 200000 galones de combustible\n",
      "\n",
      "\n",
      "    Informe Preciso\n",
      "    ---------------------------------------------\n",
      "    Destino: Moon\n",
      "    Tiempo total: 76\n",
      "    Total de combustible: 500000\n",
      "    El tanque main tiene 300000 galones de combustible\n",
      "    El tanque external tiene 200000 galones de combustible\n",
      "\n",
      "None\n"
     ]
    }
   ],
   "source": [
    "def crear_informe_preciso(destino,*minutes,**fuel_reservoirs):\n",
    "    formato='\\n'\n",
    "    for nombre_tanque, cantidad_combustible in fuel_reservoirs.items():\n",
    "        formato += f'    El tanque {nombre_tanque} tiene {cantidad_combustible} galones de combustible\\n'\n",
    "    \n",
    "    print(formato)\n",
    "\n",
    "    informe=f\"\"\"\n",
    "    Informe Preciso\n",
    "    ---------------------------------------------\n",
    "    Destino: {destino}\n",
    "    Tiempo total: {sum(minutes)}\n",
    "    Total de combustible: {sum(fuel_reservoirs.values())}\"\"\"\n",
    "\n",
    "    #print(cantidad_combustible)\n",
    "    print(informe+formato)\n",
    "\n",
    "print(crear_informe_preciso(\"Moon\", 10, 15, 51, main=300000, external=200000))"
   ]
  }
 ],
 "metadata": {
  "interpreter": {
   "hash": "1dcb185ee194a428574f52038d12eaf0b28e36494686ce54d3093282a597dbf1"
  },
  "kernelspec": {
   "display_name": "Python 3.9.7 64-bit",
   "language": "python",
   "name": "python3"
  },
  "language_info": {
   "codemirror_mode": {
    "name": "ipython",
    "version": 3
   },
   "file_extension": ".py",
   "mimetype": "text/x-python",
   "name": "python",
   "nbconvert_exporter": "python",
   "pygments_lexer": "ipython3",
   "version": "3.9.7"
  },
  "orig_nbformat": 4
 },
 "nbformat": 4,
 "nbformat_minor": 2
}
