{
 "cells": [
  {
   "cell_type": "markdown",
   "metadata": {},
   "source": [
    "# Problema 1"
   ]
  },
  {
   "cell_type": "code",
   "execution_count": 8,
   "metadata": {},
   "outputs": [
    {
     "name": "stdout",
     "output_type": "stream",
     "text": [
      "Hay 7 planetas en el sistema solar\n",
      "Pluto\n"
     ]
    }
   ],
   "source": [
    "# Lista de planetas\n",
    "planets = ['Mercury', 'Venus', 'Earth', 'Mars', 'Jupiter', 'Saturn', 'Neptune']\n",
    "\n",
    "print('Hay {} planetas en el sistema solar'.format(planets.__len__()))\n",
    "\n",
    "planets += ['Pluto']\n",
    "\n",
    "print(planets[-1])\n",
    "\n"
   ]
  },
  {
   "cell_type": "markdown",
   "metadata": {},
   "source": [
    "# Problema 2"
   ]
  },
  {
   "cell_type": "code",
   "execution_count": 17,
   "metadata": {},
   "outputs": [
    {
     "name": "stdout",
     "output_type": "stream",
     "text": [
      "Por favor selecciona un planeta de la siguiente lista \n",
      "['Mercury', 'Venus', 'Earth', 'Mars', 'Jupiter', 'Saturn', 'Neptune']\n",
      "Plnetas mas cercanos al Sol ['Mercury', 'Venus', 'Earth']\n",
      "Plnetas mas alejados al Sol ['Jupiter', 'Saturn', 'Neptune']\n"
     ]
    }
   ],
   "source": [
    "# Lista de planetas\n",
    "planets = ['Mercury', 'Venus', 'Earth', 'Mars', 'Jupiter', 'Saturn', 'Neptune']\n",
    "\n",
    "print('Por favor selecciona un planeta de la siguiente lista \\n{}'.format(planets))\n",
    "\n",
    "planet=input('Planeta Elegido')\n",
    "\n",
    "\n",
    "\n",
    "planet_index=planets.index(planet)\n",
    "\n",
    "print('Plnetas mas cercanos al Sol {}'.format(planets[:planet_index]))\n",
    "\n",
    "print('Plnetas mas alejados al Sol {}'.format(planets[planet_index+1:]))"
   ]
  }
 ],
 "metadata": {
  "interpreter": {
   "hash": "1dcb185ee194a428574f52038d12eaf0b28e36494686ce54d3093282a597dbf1"
  },
  "kernelspec": {
   "display_name": "Python 3.9.7 64-bit",
   "language": "python",
   "name": "python3"
  },
  "language_info": {
   "codemirror_mode": {
    "name": "ipython",
    "version": 3
   },
   "file_extension": ".py",
   "mimetype": "text/x-python",
   "name": "python",
   "nbconvert_exporter": "python",
   "pygments_lexer": "ipython3",
   "version": "3.9.7"
  },
  "orig_nbformat": 4
 },
 "nbformat": 4,
 "nbformat_minor": 2
}
