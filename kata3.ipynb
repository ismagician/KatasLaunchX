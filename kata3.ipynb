{
 "cells": [
  {
   "cell_type": "markdown",
   "metadata": {},
   "source": [
    "# Problema 1"
   ]
  },
  {
   "cell_type": "code",
   "execution_count": 1,
   "metadata": {},
   "outputs": [
    {
     "name": "stdout",
     "output_type": "stream",
     "text": [
      "Peligro Inminente\n"
     ]
    }
   ],
   "source": [
    "velocidad_asteroide=49\n",
    "\n",
    "if velocidad_asteroide > 25:\n",
    "    print(\"Peligro Inminente\")\n"
   ]
  },
  {
   "cell_type": "markdown",
   "metadata": {},
   "source": [
    "# Problema 2"
   ]
  },
  {
   "cell_type": "code",
   "execution_count": 7,
   "metadata": {},
   "outputs": [
    {
     "name": "stdout",
     "output_type": "stream",
     "text": [
      "Nada\n"
     ]
    }
   ],
   "source": [
    "velocidad_asteroide=19\n",
    "if velocidad_asteroide > 20:\n",
    "    print(\"Buscar Estela de Luz\")\n",
    "elif velocidad_asteroide == 20:\n",
    "    print(\"Buscar Estela de Luz\")\n",
    "else:\n",
    "    print(\"Nada por aqui\")  "
   ]
  },
  {
   "cell_type": "markdown",
   "metadata": {},
   "source": [
    "# Problema 3"
   ]
  },
  {
   "cell_type": "code",
   "execution_count": 36,
   "metadata": {},
   "outputs": [
    {
     "name": "stdout",
     "output_type": "stream",
     "text": [
      "No pasa nada \n"
     ]
    }
   ],
   "source": [
    "velocidad_asteroide=19\n",
    "tamano_asteroide=20\n",
    "\n",
    "if tamano_asteroide > 25 and velocidad_asteroide >25 :\n",
    "    \n",
    "    print(\"Peligro Inminente, estela de luz visible\")\n",
    "  \n",
    "    if tamano_asteroide > 1000:\n",
    "        print(\"Daño Catastrófico!!!!!!\")\n",
    "elif velocidad_asteroide >= 20 :\n",
    "        print(\"Estela de Luz Visible, asteroide innofensivo\")\n",
    "elif tamano_asteroide <= 25:\n",
    "        print(\"No pasa nada \")\n",
    "else:\n",
    "        print(\"Nada\")\n"
   ]
  }
 ],
 "metadata": {
  "interpreter": {
   "hash": "1dcb185ee194a428574f52038d12eaf0b28e36494686ce54d3093282a597dbf1"
  },
  "kernelspec": {
   "display_name": "Python 3.9.7 64-bit",
   "language": "python",
   "name": "python3"
  },
  "language_info": {
   "codemirror_mode": {
    "name": "ipython",
    "version": 3
   },
   "file_extension": ".py",
   "mimetype": "text/x-python",
   "name": "python",
   "nbconvert_exporter": "python",
   "pygments_lexer": "ipython3",
   "version": "3.9.7"
  },
  "orig_nbformat": 4
 },
 "nbformat": 4,
 "nbformat_minor": 2
}
