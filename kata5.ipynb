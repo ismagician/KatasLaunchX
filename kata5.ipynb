{
 "cells": [
  {
   "cell_type": "markdown",
   "metadata": {},
   "source": [
    "# Problema 1"
   ]
  },
  {
   "cell_type": "code",
   "execution_count": 2,
   "metadata": {},
   "outputs": [],
   "source": [
    "tierra=149597870\n",
    "jupiter=778547200"
   ]
  },
  {
   "cell_type": "code",
   "execution_count": 3,
   "metadata": {},
   "outputs": [
    {
     "name": "stdout",
     "output_type": "stream",
     "text": [
      "628949330\n",
      "390810245.1821\n"
     ]
    }
   ],
   "source": [
    "distancia=abs(tierra-jupiter)\n",
    "milla=0.62137\n",
    "print(distancia)\n",
    "print(distancia*milla)\n",
    "\n"
   ]
  },
  {
   "cell_type": "markdown",
   "metadata": {},
   "source": [
    "# Problema 2\n",
    " "
   ]
  },
  {
   "cell_type": "code",
   "execution_count": 5,
   "metadata": {},
   "outputs": [
    {
     "name": "stdout",
     "output_type": "stream",
     "text": [
      "Calculo ded distancias entre planetas, por favor escriba las distancias de los planetas que desea\n",
      "Distancia en kilometros: 2722900000\n",
      "Distancia en millas: 1691928373.0\n"
     ]
    }
   ],
   "source": [
    "print(\"Calculo ded distancias entre planetas, por favor escriba las distancias de los planetas que desea\")\n",
    "milla=0.62137\n",
    "distancia1= input(\"Distancia del planeta 1\")\n",
    "distancia2= input(\"Distancia del planeta 2\")\n",
    "\n",
    "calculo=abs(int(distancia1)-int(distancia2))\n",
    "\n",
    "print('Distancia en kilometros: {}'.format(calculo))\n",
    "print('Distancia en millas: {}'.format(calculo*milla))\n"
   ]
  }
 ],
 "metadata": {
  "interpreter": {
   "hash": "1dcb185ee194a428574f52038d12eaf0b28e36494686ce54d3093282a597dbf1"
  },
  "kernelspec": {
   "display_name": "Python 3.9.7 64-bit",
   "language": "python",
   "name": "python3"
  },
  "language_info": {
   "codemirror_mode": {
    "name": "ipython",
    "version": 3
   },
   "file_extension": ".py",
   "mimetype": "text/x-python",
   "name": "python",
   "nbconvert_exporter": "python",
   "pygments_lexer": "ipython3",
   "version": "3.9.7"
  },
  "orig_nbformat": 4
 },
 "nbformat": 4,
 "nbformat_minor": 2
}
