{
 "cells": [
  {
   "cell_type": "markdown",
   "metadata": {},
   "source": [
    "# Problema 1"
   ]
  },
  {
   "cell_type": "code",
   "execution_count": 2,
   "metadata": {},
   "outputs": [
    {
     "name": "stdout",
     "output_type": "stream",
     "text": [
      "[]\n",
      "Planeta Agregado\n",
      "['Tierra']\n",
      "Planeta Agregado\n",
      "['Tierra', 'Marte']\n",
      "Planeta Agregado\n",
      "['Tierra', 'Marte', 'Venus']\n"
     ]
    }
   ],
   "source": [
    "new_planet=''\n",
    "planets= []\n",
    "while new_planet !='done':\n",
    "    \n",
    "    if new_planet:\n",
    "        planets.append(new_planet)\n",
    "        print('Planeta Agregado')\n",
    "    new_planet=input('escribe un planeta, por favor')\n",
    "    print(planets)"
   ]
  },
  {
   "cell_type": "markdown",
   "metadata": {},
   "source": [
    "# Problema 2"
   ]
  },
  {
   "cell_type": "code",
   "execution_count": 3,
   "metadata": {},
   "outputs": [
    {
     "name": "stdout",
     "output_type": "stream",
     "text": [
      "Tierra\n",
      "Marte\n",
      "Venus\n"
     ]
    }
   ],
   "source": [
    "for planet in planets:\n",
    "    print(planet)"
   ]
  }
 ],
 "metadata": {
  "interpreter": {
   "hash": "1dcb185ee194a428574f52038d12eaf0b28e36494686ce54d3093282a597dbf1"
  },
  "kernelspec": {
   "display_name": "Python 3.9.7 64-bit",
   "language": "python",
   "name": "python3"
  },
  "language_info": {
   "codemirror_mode": {
    "name": "ipython",
    "version": 3
   },
   "file_extension": ".py",
   "mimetype": "text/x-python",
   "name": "python",
   "nbconvert_exporter": "python",
   "pygments_lexer": "ipython3",
   "version": "3.9.7"
  },
  "orig_nbformat": 4
 },
 "nbformat": 4,
 "nbformat_minor": 2
}
